{
 "cells": [
  {
   "cell_type": "code",
   "execution_count": 45,
   "id": "65794308",
   "metadata": {},
   "outputs": [
    {
     "name": "stdout",
     "output_type": "stream",
     "text": [
      "[[1, 2, 3, 4], [5, 6, 7, 8]]\n",
      "<class 'list'>\n"
     ]
    }
   ],
   "source": [
    "import numpy as np\n",
    "A=np.array([[1, 2, 3, 4],[5, 6, 7, 8]])\n",
    "my_list = A.tolist()\n",
    "print(my_list)\n",
    "print(type(my_list))\n"
   ]
  },
  {
   "cell_type": "code",
   "execution_count": 49,
   "id": "2a0dbae0",
   "metadata": {},
   "outputs": [
    {
     "name": "stdout",
     "output_type": "stream",
     "text": [
      "First_method: [5 7 9]\n",
      "Second_method: [5 7 9]\n"
     ]
    }
   ],
   "source": [
    "import numpy as np\n",
    "B=np.array([1,2,3])\n",
    "C=np.array([4,5,6])\n",
    "print(\"First_method:\",np.add(B,C))\n",
    "print(\"Second_method:\",B+C)"
   ]
  },
  {
   "cell_type": "code",
   "execution_count": 13,
   "id": "dfcc9689",
   "metadata": {},
   "outputs": [
    {
     "data": {
      "text/plain": [
       "array([3, 5])"
      ]
     },
     "execution_count": 13,
     "metadata": {},
     "output_type": "execute_result"
    }
   ],
   "source": [
    "import numpy as np\n",
    "arr=np.array([[1,2],[3,5]])\n",
    "a=2\n",
    "arr[arr>a]\n"
   ]
  },
  {
   "cell_type": "code",
   "execution_count": 69,
   "id": "fb17ee6e",
   "metadata": {},
   "outputs": [
    {
     "name": "stdout",
     "output_type": "stream",
     "text": [
      "[ 82 892 933]\n"
     ]
    }
   ],
   "source": [
    "import numpy as np\n",
    "A=np.array([78, 2 , 79])\n",
    "B=np.array([4, 890, 854])\n",
    "C=A+B\n",
    "print(C)"
   ]
  },
  {
   "cell_type": "code",
   "execution_count": 18,
   "id": "8f1d5f17",
   "metadata": {},
   "outputs": [
    {
     "data": {
      "text/plain": [
       "20.6"
      ]
     },
     "execution_count": 18,
     "metadata": {},
     "output_type": "execute_result"
    }
   ],
   "source": [
    "import numpy as np\n",
    "ligne_1=np.array([1,2,4,7,89])\n",
    "np.mean(ligne_1)\n"
   ]
  },
  {
   "cell_type": "code",
   "execution_count": null,
   "id": "53219921",
   "metadata": {},
   "outputs": [],
   "source": []
  }
 ],
 "metadata": {
  "kernelspec": {
   "display_name": "Python 3 (ipykernel)",
   "language": "python",
   "name": "python3"
  },
  "language_info": {
   "codemirror_mode": {
    "name": "ipython",
    "version": 3
   },
   "file_extension": ".py",
   "mimetype": "text/x-python",
   "name": "python",
   "nbconvert_exporter": "python",
   "pygments_lexer": "ipython3",
   "version": "3.9.13"
  }
 },
 "nbformat": 4,
 "nbformat_minor": 5
}
