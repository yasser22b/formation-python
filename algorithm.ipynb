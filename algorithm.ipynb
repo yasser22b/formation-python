{
 "cells": [
  {
   "cell_type": "code",
   "execution_count": 13,
   "id": "eb7444d3",
   "metadata": {},
   "outputs": [
    {
     "name": "stdout",
     "output_type": "stream",
     "text": [
      "2\n",
      "3\n"
     ]
    },
    {
     "data": {
      "text/plain": [
       "'k is found'"
      ]
     },
     "execution_count": 13,
     "metadata": {},
     "output_type": "execute_result"
    }
   ],
   "source": [
    "def binary_search(A, l, h, k):\n",
    "    if h >= l:\n",
    "        mid = int(l + (h - l)/2)\n",
    "        print(mid)\n",
    "        if A[mid] == k:\n",
    "            return 'k is found'\n",
    "        elif A[mid] > k:\n",
    "            return binary_search(A, l, mid-1, k)\n",
    "        else:\n",
    "            return binary_search(A, mid+1, h, k)\n",
    "    else:\n",
    "        return 'k is not found'\n",
    "    \n",
    "A=[1, 2, 3,5,8]\n",
    "k=5;l=0; h=len(A)-1;\n",
    "binary_search(A, l, h, k)"
   ]
  },
  {
   "cell_type": "code",
   "execution_count": 21,
   "id": "3cb479c7",
   "metadata": {},
   "outputs": [
    {
     "name": "stdout",
     "output_type": "stream",
     "text": [
      "81\n"
     ]
    }
   ],
   "source": [
    "def power(a,b):\n",
    "    if b==0:\n",
    "        return 1\n",
    "    elif a==0:\n",
    "        return 0\n",
    "    elif b==1:\n",
    "        return a\n",
    "    else:\n",
    "        return a*power(a,b-1)\n",
    "\n",
    "print(power(3,4))\n"
   ]
  },
  {
   "cell_type": "code",
   "execution_count": 26,
   "id": "bfe50dcd",
   "metadata": {},
   "outputs": [
    {
     "name": "stdout",
     "output_type": "stream",
     "text": [
      "Sorted array is:\n",
      "13 22 29 37 46 49 52 56 71 "
     ]
    }
   ],
   "source": [
    "\n",
    "def bubbleSort(arr):\n",
    "    n = len(arr)\n",
    "    \n",
    "    swapped = False\n",
    "\n",
    "    for i in range(n-1):\n",
    "      \n",
    "        for j in range(0, n-i-1):\n",
    " \n",
    "            \n",
    "            if arr[j] > arr[j + 1]:\n",
    "                swapped = True\n",
    "                arr[j], arr[j + 1] = arr[j + 1], arr[j]\n",
    "         \n",
    "        if not swapped:\n",
    "        \n",
    "            return\n",
    " \n",
    " \n",
    "arr = [29,13,22,37,52,49,46,71,56]\n",
    " \n",
    "bubbleSort(arr)\n",
    " \n",
    "print(\"Sorted array is:\")\n",
    "for i in range(len(arr)):\n",
    "    print( arr[i], end=\" \")"
   ]
  },
  {
   "cell_type": "code",
   "execution_count": 54,
   "id": "56a03a24",
   "metadata": {},
   "outputs": [
    {
     "name": "stdout",
     "output_type": "stream",
     "text": [
      "Given array is\n",
      "29 13 22 37 52 49 46 71 56 \n",
      "\n",
      "Sorted array is\n",
      "13 22 29 37 46 49 52 56 71 "
     ]
    }
   ],
   "source": [
    "def merge(arr, l, m, r):\n",
    "    n1 = m - l + 1\n",
    "    n2 = r - m\n",
    " \n",
    "    # create temp arrays\n",
    "    L = [0] * (n1)\n",
    "    R = [0] * (n2)\n",
    " \n",
    "    # Copy data to temp arrays L[] and R[]\n",
    "    for i in range(0, n1):\n",
    "        L[i] = arr[l + i]\n",
    " \n",
    "    for j in range(0, n2):\n",
    "        R[j] = arr[m + 1 + j]\n",
    " \n",
    "    # Merge the temp arrays back into arr[l..r]\n",
    "    i = 0     # Initial index of first subarray\n",
    "    j = 0     # Initial index of second subarray\n",
    "    k = l     # Initial index of merged subarray\n",
    " \n",
    "    while i < n1 and j < n2:\n",
    "        if L[i] <= R[j]:\n",
    "            arr[k] = L[i]\n",
    "            i += 1\n",
    "        else:\n",
    "            arr[k] = R[j]\n",
    "            j += 1\n",
    "        k += 1\n",
    " \n",
    "    # Copy the remaining elements of L[], if there\n",
    "    # are any\n",
    "    while i < n1:\n",
    "        arr[k] = L[i]\n",
    "        i += 1\n",
    "        k += 1\n",
    " \n",
    "    # Copy the remaining elements of R[], if there\n",
    "    # are any\n",
    "    while j < n2:\n",
    "        arr[k] = R[j]\n",
    "        j += 1\n",
    "        k += 1\n",
    " \n",
    "# l is for left index and r is right index of the\n",
    "# sub-array of arr to be sorted\n",
    "def mergeSort(arr, l, r):\n",
    "    if l < r:\n",
    " \n",
    "        # Same as (l+r)//2, but avoids overflow for\n",
    "        # large l and h\n",
    "        m = l+(r-l)//2\n",
    " \n",
    "        # Sort first and second halves\n",
    "        mergeSort(arr, l, m)\n",
    "        mergeSort(arr, m+1, r)\n",
    "        merge(arr, l, m, r)\n",
    " \n",
    "\n",
    "# Driver code to test above\n",
    "arr = [29,13,22,37,52,49,46,71,56]\n",
    "n = len(arr)\n",
    "print(\"Given array is\")\n",
    "for i in range(n):\n",
    "    print(\"%d\" % arr[i],end=\" \")\n",
    "\n",
    "mergeSort(arr, 0, n-1)\n",
    "print(\"\\n\\nSorted array is\")\n",
    "for i in range(n):\n",
    "    print(\"%d\" % arr[i],end=\" \")\n",
    " "
   ]
  },
  {
   "cell_type": "code",
   "execution_count": 56,
   "id": "2cba075a",
   "metadata": {},
   "outputs": [
    {
     "name": "stdout",
     "output_type": "stream",
     "text": [
      "Unsorted Array\n",
      "[29, 13, 22, 37, 52, 49, 46, 71, 56]\n",
      "Sorted Array in Ascending Order:\n",
      "[13, 22, 29, 37, 46, 49, 52, 56, 71]\n"
     ]
    }
   ],
   "source": [
    "def partition(array, low, high):\n",
    " \n",
    "    # choose the rightmost element as pivot\n",
    "    pivot = array[high]\n",
    " \n",
    "    # pointer for greater element\n",
    "    i = low - 1\n",
    " \n",
    "    # traverse through all elements\n",
    "    # compare each element with pivot\n",
    "    for j in range(low, high):\n",
    "        if array[j] <= pivot:\n",
    " \n",
    "            # If element smaller than pivot is found\n",
    "            # swap it with the greater element pointed by i\n",
    "            i = i + 1\n",
    " \n",
    "            # Swapping element at i with element at j\n",
    "            (array[i], array[j]) = (array[j], array[i])\n",
    " \n",
    "    # Swap the pivot element with the greater element specified by i\n",
    "    (array[i + 1], array[high]) = (array[high], array[i + 1])\n",
    " \n",
    "    # Return the position from where partition is done\n",
    "    return i + 1\n",
    " \n",
    "# function to perform quicksort\n",
    " \n",
    " \n",
    "def quickSort(array, low, high):\n",
    "    if low < high:\n",
    " \n",
    "        # Find pivot element such that\n",
    "        # element smaller than pivot are on the left\n",
    "        # element greater than pivot are on the right\n",
    "        pi = partition(array, low, high)\n",
    " \n",
    "        # Recursive call on the left of pivot\n",
    "        quickSort(array, low, pi - 1)\n",
    " \n",
    "        # Recursive call on the right of pivot\n",
    "        quickSort(array, pi + 1, high)\n",
    " \n",
    " \n",
    "data =  [29,13,22,37,52,49,46,71,56]\n",
    "print(\"Unsorted Array\")\n",
    "print(data)\n",
    " \n",
    "size = len(data)\n",
    " \n",
    "quickSort(data, 0, size - 1)\n",
    " \n",
    "print('Sorted Array in Ascending Order:')\n",
    "print(data)"
   ]
  },
  {
   "cell_type": "code",
   "execution_count": null,
   "id": "56f77a97",
   "metadata": {},
   "outputs": [],
   "source": []
  }
 ],
 "metadata": {
  "kernelspec": {
   "display_name": "Python 3 (ipykernel)",
   "language": "python",
   "name": "python3"
  },
  "language_info": {
   "codemirror_mode": {
    "name": "ipython",
    "version": 3
   },
   "file_extension": ".py",
   "mimetype": "text/x-python",
   "name": "python",
   "nbconvert_exporter": "python",
   "pygments_lexer": "ipython3",
   "version": "3.9.13"
  }
 },
 "nbformat": 4,
 "nbformat_minor": 5
}
