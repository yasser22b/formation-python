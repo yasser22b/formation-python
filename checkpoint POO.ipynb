{
 "cells": [
  {
   "cell_type": "code",
   "execution_count": 45,
   "id": "6e983caa",
   "metadata": {},
   "outputs": [
    {
     "data": {
      "text/plain": [
       "(1, 2, 3)"
      ]
     },
     "execution_count": 45,
     "metadata": {},
     "output_type": "execute_result"
    }
   ],
   "source": [
    "class Point3D:\n",
    "    def __init__(self,x,y,z):\n",
    "        self.x=x\n",
    "        self.y=y\n",
    "        self.z=z\n",
    "    def affiche(self):\n",
    "        return (self.x,self.y,self.z) \n",
    "        \n",
    "my_point=Point3D(1,2,3)\n",
    "my_point.affiche()\n"
   ]
  },
  {
   "cell_type": "code",
   "execution_count": 44,
   "id": "f86c5236",
   "metadata": {},
   "outputs": [
    {
     "name": "stdout",
     "output_type": "stream",
     "text": [
      "12\n",
      "14\n"
     ]
    }
   ],
   "source": [
    "class Rectangle:\n",
    "    def __init__(self,longueur,largeur):\n",
    "        self.longueur=longueur\n",
    "        self.largeur=largeur\n",
    "    def impr(self):\n",
    "        return(self.longueur,self.largeur)\n",
    "    def surface(self):\n",
    "        return(self.longueur*self.largeur)\n",
    "    def perimetre(self):\n",
    "        return(2 * (self.longueur + self.largeur))\n",
    "    \n",
    "my_rectangle =Rectangle(3,4)   \n",
    "print(my_rectangle.surface())\n",
    "print(my_rectangle.perimetre())"
   ]
  },
  {
   "cell_type": "code",
   "execution_count": 5,
   "id": "0bab28c1",
   "metadata": {},
   "outputs": [
    {
     "name": "stdout",
     "output_type": "stream",
     "text": [
      "Entrez le rayon du  cercle: 1\n",
      "La surface du cercle est:  3.141592653589793\n",
      "False\n"
     ]
    }
   ],
   "source": [
    "import math \n",
    "class Cercle():\n",
    "\n",
    "    \n",
    "    def rayon(self,rayon):\n",
    "        r = rayon\n",
    "    def surface(self,r):\n",
    "        pi= math.pi\n",
    "        surface = pi*r*r\n",
    "        print(\"La surface du cercle est: \",surface)\n",
    "    def perimetre(self,r):\n",
    "        pi=math.pi\n",
    "        perimetre = 2*pi*r\n",
    "        \n",
    "    def isInside(self,x,y,r):\n",
    "        dis = math.sqrt((x-y)**2)\n",
    "        if (dis>r):\n",
    "            return False;\n",
    "        else:\n",
    "            return True;\n",
    "\n",
    "c = Cercle()\n",
    "radius = int(input(\"Entrez le rayon du  cercle: \"))\n",
    "c.surface(radius)\n",
    "c.perimetre(radius)\n",
    "print(c.isInside(89,789,2))\n",
    "\n",
    "\n",
    "x = 1;\n",
    "y = 1;\n",
    "circle_x = 0;\n",
    "circle_y = 1;\n",
    "rad = 2;\n",
    "\n",
    " "
   ]
  },
  {
   "cell_type": "code",
   "execution_count": 49,
   "id": "a933b659",
   "metadata": {},
   "outputs": [
    {
     "data": {
      "text/plain": [
       "730"
      ]
     },
     "execution_count": 49,
     "metadata": {},
     "output_type": "execute_result"
    }
   ],
   "source": [
    "class CompteBancaire:\n",
    "    def __init__(self, solde):\n",
    "        self.solde = solde\n",
    "        \n",
    "    def versement( self,argent):\n",
    "        self.solde = self.solde + argent\n",
    "        return self.solde\n",
    "    \n",
    "    def retrait(self, argent):\n",
    "        self.solde = self.solde - argent\n",
    "        return self.solde\n",
    "\n",
    "compte=CompteBancaire(1500)\n",
    "compte.versement(788)\n",
    "compte.retrait(770)\n",
    "    \n"
   ]
  },
  {
   "cell_type": "code",
   "execution_count": null,
   "id": "d2ab7093",
   "metadata": {},
   "outputs": [],
   "source": []
  },
  {
   "cell_type": "code",
   "execution_count": null,
   "id": "66f50d9d",
   "metadata": {},
   "outputs": [],
   "source": []
  }
 ],
 "metadata": {
  "kernelspec": {
   "display_name": "Python 3 (ipykernel)",
   "language": "python",
   "name": "python3"
  },
  "language_info": {
   "codemirror_mode": {
    "name": "ipython",
    "version": 3
   },
   "file_extension": ".py",
   "mimetype": "text/x-python",
   "name": "python",
   "nbconvert_exporter": "python",
   "pygments_lexer": "ipython3",
   "version": "3.9.13"
  }
 },
 "nbformat": 4,
 "nbformat_minor": 5
}
