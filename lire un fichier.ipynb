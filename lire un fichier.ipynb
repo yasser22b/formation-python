{
 "cells": [
  {
   "cell_type": "code",
   "execution_count": 40,
   "id": "731a8335",
   "metadata": {
    "scrolled": true
   },
   "outputs": [
    {
     "data": {
      "text/plain": [
       "<_io.TextIOWrapper name='test.txt' mode='w' encoding='utf-8'>"
      ]
     },
     "execution_count": 40,
     "metadata": {},
     "output_type": "execute_result"
    }
   ],
   "source": [
    "with open(\"test.txt\",'w',encoding = 'utf-8') as f:\n",
    "   f.write(\"my first file\\n\")\n",
    "   f.write(\"This file\\n\\n\")\n",
    "   f.write(\"contains three lines\\n\")\n",
    "f\n"
   ]
  },
  {
   "cell_type": "code",
   "execution_count": 69,
   "id": "b919975e",
   "metadata": {},
   "outputs": [
    {
     "data": {
      "text/plain": [
       "['What is Python language?                                                \\n',\n",
       " 'Python is a widely used high-level, general-purpose, interpreted, dynamic programming language.Its design philosophy emphasizes code readability, and its syntax allows programmers to express concepts in fewer lines of code than possible in \\n',\n",
       " 'languages such as C++ or Java. \\n',\n",
       " 'Python supports multiple programming paradigms, including object-oriented, imperative and functional programming or procedural styles. It features a dynamic type system and automatic memory management and has a large and comprehensive standard library.The best way we learn anything is by practice and exercise questions. We  have started this section for those (beginner to intermediate) who are familiar with Python.']"
      ]
     },
     "execution_count": 69,
     "metadata": {},
     "output_type": "execute_result"
    }
   ],
   "source": [
    "f=open(\"python.txt\") \n",
    "f.readlines()[:5]"
   ]
  },
  {
   "cell_type": "code",
   "execution_count": 70,
   "id": "b922488a",
   "metadata": {},
   "outputs": [
    {
     "data": {
      "text/plain": [
       "['Python is a widely used high-level, general-purpose, interpreted, dynamic programming language.Its design philosophy emphasizes code readability, and its syntax allows programmers to express concepts in fewer lines of code than possible in \\n',\n",
       " 'languages such as C++ or Java. \\n',\n",
       " 'Python supports multiple programming paradigms, including object-oriented, imperative and functional programming or procedural styles. It features a dynamic type system and automatic memory management and has a large and comprehensive standard library.The best way we learn anything is by practice and exercise questions. We  have started this section for those (beginner to intermediate) who are familiar with Python.']"
      ]
     },
     "execution_count": 70,
     "metadata": {},
     "output_type": "execute_result"
    }
   ],
   "source": [
    "f=open(\"python.txt\") \n",
    "f.readlines()[-3:]"
   ]
  },
  {
   "cell_type": "code",
   "execution_count": 74,
   "id": "6fd9985e",
   "metadata": {},
   "outputs": [
    {
     "name": "stdout",
     "output_type": "stream",
     "text": [
      "148\n"
     ]
    }
   ],
   "source": [
    "f=open(\"python.txt\") \n",
    "def count_words(filepath):\n",
    "   with open(filepath) as f:\n",
    "       data = f.read()\n",
    "       data.replace(\",\", \" \")\n",
    "       return len(data.split(\" \"))\n",
    "print(count_words(\"python.txt\"))"
   ]
  },
  {
   "cell_type": "code",
   "execution_count": null,
   "id": "254311b2",
   "metadata": {},
   "outputs": [],
   "source": []
  },
  {
   "cell_type": "code",
   "execution_count": null,
   "id": "e4be7bf3",
   "metadata": {},
   "outputs": [],
   "source": []
  },
  {
   "cell_type": "code",
   "execution_count": null,
   "id": "8f9ff41c",
   "metadata": {},
   "outputs": [],
   "source": []
  }
 ],
 "metadata": {
  "kernelspec": {
   "display_name": "Python 3 (ipykernel)",
   "language": "python",
   "name": "python3"
  },
  "language_info": {
   "codemirror_mode": {
    "name": "ipython",
    "version": 3
   },
   "file_extension": ".py",
   "mimetype": "text/x-python",
   "name": "python",
   "nbconvert_exporter": "python",
   "pygments_lexer": "ipython3",
   "version": "3.9.13"
  }
 },
 "nbformat": 4,
 "nbformat_minor": 5
}
